{
 "cells": [
  {
   "cell_type": "code",
   "execution_count": 24,
   "id": "d519ac45",
   "metadata": {},
   "outputs": [
    {
     "name": "stdout",
     "output_type": "stream",
     "text": [
      "comp turn:rock(r),paper(p) or secior(s)\n",
      "your turn: rock(r),paper(p) or secior(s)?r\n",
      "The game is tie\n"
     ]
    }
   ],
   "source": [
    "import random\n",
    "def game(comp,you):\n",
    "    if comp==you:\n",
    "        return None\n",
    "    elif comp==\"r\":\n",
    "        if you==\"p\":\n",
    "            return True\n",
    "        elif you==\"s\":\n",
    "            return False\n",
    "    elif comp==\"p\":\n",
    "        if you==\"s\":\n",
    "            return True\n",
    "        elif you==\"r\":\n",
    "            return False\n",
    "    elif comp==\"s\":\n",
    "        if you==\"r\":\n",
    "            return True\n",
    "        elif you==\"p\":\n",
    "            return False\n",
    "    \n",
    "print(\"comp turn:rock(r),paper(p) or secior(s)\")\n",
    "ranNo=random.randint(1,3)\n",
    "if ranNo==1:\n",
    "    comp=\"r\"\n",
    "elif ranNo==2:\n",
    "    comp=\"p\"\n",
    "elif ranNo==3:\n",
    "    comp=\"s\"\n",
    "    \n",
    "you=input(\"your turn: rock(r),paper(p) or secior(s)?\")\n",
    "a=game(comp,you)\n",
    "if a==None:\n",
    "    print(\"The game is tie\")\n",
    "elif a==True:\n",
    "    print(\"you win\")\n",
    "elif a==False:\n",
    "    print(\"you lose\")\n",
    "\n"
   ]
  },
  {
   "cell_type": "code",
   "execution_count": null,
   "id": "a5980951",
   "metadata": {},
   "outputs": [],
   "source": [
    "\n"
   ]
  },
  {
   "cell_type": "raw",
   "id": "94e7258f",
   "metadata": {},
   "source": []
  }
 ],
 "metadata": {
  "kernelspec": {
   "display_name": "Python 3",
   "language": "python",
   "name": "python3"
  },
  "language_info": {
   "codemirror_mode": {
    "name": "ipython",
    "version": 3
   },
   "file_extension": ".py",
   "mimetype": "text/x-python",
   "name": "python",
   "nbconvert_exporter": "python",
   "pygments_lexer": "ipython3",
   "version": "3.8.8"
  }
 },
 "nbformat": 4,
 "nbformat_minor": 5
}
